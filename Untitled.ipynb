{
 "cells": [
  {
   "cell_type": "code",
   "execution_count": 288,
   "metadata": {
    "collapsed": true
   },
   "outputs": [],
   "source": [
    "from selenium import webdriver, common\n",
    "from selenium.webdriver.common.keys import Keys\n",
    "from fpdf import FPDF\n",
    "import time\n",
    "import os\n",
    "import base64\n",
    "import urllib.parse as parse\n",
    "import shutil"
   ]
  },
  {
   "cell_type": "code",
   "execution_count": 301,
   "metadata": {},
   "outputs": [],
   "source": [
    "driver = webdriver.Chrome(executable_path='/home/roman/chromedriver')\n",
    "driver.get('http://elib.gubkin.ru/bookview/view/20348/26696')\n",
    "time.sleep(2)\n",
    "frame = driver.find_element_by_tag_name('iframe')\n",
    "\n",
    "title = frame.get_attribute('src')\n",
    "title = title[title.index('title=') + 6:title.index('#zoom=auto')]\n",
    "title = ps.unquote(title)\n",
    "\n",
    "driver.switch_to_frame(driver.find_element_by_tag_name(\"iframe\"))\n",
    "\n",
    "pages_count = len(driver.find_elements_by_class_name('page'))\n",
    "\n",
    "btn = driver.find_element_by_id('presentationMode')\n",
    "btn.send_keys(Keys.ENTER)\n",
    "cont = driver.find_element_by_id('viewerContainer')\n",
    "\n",
    "os.mkdir(title)\n",
    "\n",
    "for i in range(pages_count):\n",
    "    cont.send_keys(Keys.ARROW_DOWN)\n",
    "    time.sleep(0.35)\n",
    "    driver.save_screenshot(title + '/page' + str(i) + '.png')\n",
    "\n",
    "driver.close()\n",
    "\n",
    "img_names = os.listdir(title)\n",
    "\n",
    "def cmp(name1=''):\n",
    "    page_num = int(name1[name1.find('e') + 1:-4])\n",
    "    return page_num\n",
    "\n",
    "img_names.sort(key=lambda x: cmp(x))\n",
    "\n",
    "pdf = FPDF(format='A3')\n",
    "for image in img_names:\n",
    "    pdf.add_page()\n",
    "    pdf.image(title + '/' + image, x=-190, y=17, type='PNG')\n",
    "pdf.output(title + \".pdf\", \"F\")\n",
    "\n",
    "shutil.rmtree(title)"
   ]
  },
  {
   "cell_type": "code",
   "execution_count": null,
   "metadata": {
    "collapsed": true
   },
   "outputs": [],
   "source": []
  }
 ],
 "metadata": {
  "kernelspec": {
   "display_name": "Python 3",
   "language": "python",
   "name": "python3"
  },
  "language_info": {
   "codemirror_mode": {
    "name": "ipython",
    "version": 3
   },
   "file_extension": ".py",
   "mimetype": "text/x-python",
   "name": "python",
   "nbconvert_exporter": "python",
   "pygments_lexer": "ipython3",
   "version": "3.5.2"
  }
 },
 "nbformat": 4,
 "nbformat_minor": 2
}
